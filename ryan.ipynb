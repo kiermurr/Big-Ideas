{
 "cells": [
  {
   "cell_type": "code",
   "execution_count": 31,
   "id": "d7b26491-fcd4-483d-bbbf-9feb26ec22c8",
   "metadata": {},
   "outputs": [
    {
     "name": "stdout",
     "output_type": "stream",
     "text": [
      "                     count  rank\n",
      "neighborhood                    \n",
      "Squirrel Hill South      8     1\n",
      "Beechview                5     2\n",
      "South Side Slopes        5     2\n",
      "Highland Park            4     4\n",
      "Sheraden                 4     4\n",
      "...                    ...   ...\n",
      "Esplen                   1    30\n",
      "Fairywood                1    30\n",
      "Regent Square            1    30\n",
      "Allentown                1    30\n",
      "East Allegheny           1    30\n",
      "\n",
      "[68 rows x 2 columns]\n"
     ]
    }
   ],
   "source": [
    "import pandas as pd\n",
    "\n",
    "playground = pd.read_csv(\"playground.csv\")\n",
    "\n",
    "playground_count = playground[\"neighborhood\"].value_counts().to_frame()\n",
    "playground_count[\"rank\"] = playground_count.rank(method=\"min\", ascending = False).astype(int)\n",
    "\n",
    "print(playground_count)\n",
    "\n",
    "\n",
    "\n"
   ]
  },
  {
   "cell_type": "markdown",
   "id": "8eedba0e-5af4-4143-855b-b615ed7a5672",
   "metadata": {},
   "source": [
    "Ryan's Conclusion: With our data metrics we used, including parks, playgrounds, and tree count we came to the conclusion that Squirrel Hill South is the best neighborhood, and honestly in my own personal opinion, I agree with that statement because of the shops and fun you can have with your friends. It is the best neighborhood."
   ]
  }
 ],
 "metadata": {
  "kernelspec": {
   "display_name": "Python [conda env:base] *",
   "language": "python",
   "name": "conda-base-py"
  },
  "language_info": {
   "codemirror_mode": {
    "name": "ipython",
    "version": 3
   },
   "file_extension": ".py",
   "mimetype": "text/x-python",
   "name": "python",
   "nbconvert_exporter": "python",
   "pygments_lexer": "ipython3",
   "version": "3.12.7"
  }
 },
 "nbformat": 4,
 "nbformat_minor": 5
}
