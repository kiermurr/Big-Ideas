{
 "cells": [
  {
   "cell_type": "code",
   "execution_count": 31,
   "id": "d7b26491-fcd4-483d-bbbf-9feb26ec22c8",
   "metadata": {},
   "outputs": [
    {
     "name": "stdout",
     "output_type": "stream",
     "text": [
      "                     count  rank\n",
      "neighborhood                    \n",
      "Squirrel Hill South      8     1\n",
      "Beechview                5     2\n",
      "South Side Slopes        5     2\n",
      "Highland Park            4     4\n",
      "Sheraden                 4     4\n",
      "...                    ...   ...\n",
      "Esplen                   1    30\n",
      "Fairywood                1    30\n",
      "Regent Square            1    30\n",
      "Allentown                1    30\n",
      "East Allegheny           1    30\n",
      "\n",
      "[68 rows x 2 columns]\n"
     ]
    }
   ],
   "source": [
    "import pandas as pd\n",
    "\n",
    "playground = pd.read_csv(\"playground.csv\")\n",
    "\n",
    "playground_count = playground[\"neighborhood\"].value_counts().to_frame()\n",
    "playground_count[\"rank\"] = playground_count.rank(method=\"min\", ascending = False).astype(int)\n",
    "\n",
    "print(playground_count)\n",
    "\n",
    "dictionaryThing ={}\n",
    "for i in range(0, len(playground_count))\n",
    "    if(\n",
    "               \n",
    "\n"
   ]
  },
  {
   "cell_type": "code",
   "execution_count": null,
   "id": "2d108bfe-2dbc-4beb-b6a3-93e4f57e3975",
   "metadata": {},
   "outputs": [],
   "source": []
  }
 ],
 "metadata": {
  "kernelspec": {
   "display_name": "Python [conda env:base] *",
   "language": "python",
   "name": "conda-base-py"
  },
  "language_info": {
   "codemirror_mode": {
    "name": "ipython",
    "version": 3
   },
   "file_extension": ".py",
   "mimetype": "text/x-python",
   "name": "python",
   "nbconvert_exporter": "python",
   "pygments_lexer": "ipython3",
   "version": "3.12.7"
  }
 },
 "nbformat": 4,
 "nbformat_minor": 5
}
