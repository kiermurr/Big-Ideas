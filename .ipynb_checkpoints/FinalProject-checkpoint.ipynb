{
 "cells": [
  {
   "cell_type": "markdown",
   "id": "d28f0c54-b48f-4328-83ac-6f8803adbb31",
   "metadata": {},
   "source": [
    "# Introduction\r\n",
    "\r\n",
    "This project explores what makes a Pittsburgh neighborhood the \"best\" by combining three metrics: the number of parks, trees, and playgrounds. Each neighborhood was ranked in each category, and the ranks were added to create a final score—lower scores indicate better overall access to green and recreational spac (good for children)e We were thinking about doing datasets based on fire before but couldn't pull it together.sty.\r\n"
   ]
  },
  {
   "cell_type": "markdown",
   "id": "a14e9e60-cb1f-474d-81c0-eab83258b449",
   "metadata": {},
   "source": [
    "# The Metric\r\n",
    "\r\n",
    "We ranked Pittsburgh neighborhoods based on three features: number of parks, trees, and playgrounds. For each dataset, neighborhoods were ranked from most to least, and their ranks were added together to form a final score.\r\n",
    "\r\n",
    "Lower scores mean better overall access to green and recreational spaces.\r\n",
    "\r\n",
    "Datasets used:\r",
    "- `par ks.csv`\r\n",
    "- `trees.csv`\r\n",
    "- `playground.csv`\r\n"
   ]
  },
  {
   "cell_type": "code",
   "execution_count": 12,
   "id": "5f5341fe-df83-4a41-83a2-d481f7906ae9",
   "metadata": {},
   "outputs": [
    {
     "name": "stdout",
     "output_type": "stream",
     "text": [
      "          neighborhood  score\n",
      "0  Squirrel Hill South      8\n",
      "1         East Liberty     16\n",
      "2     Mount Washington     26\n",
      "3     South Side Flats     26\n",
      "4            Beechview     29\n",
      "5            Hazelwood     36\n",
      "6           Bloomfield     39\n",
      "7     Brighton Heights     40\n",
      "8        Highland Park     41\n",
      "9              Carrick     41\n"
     ]
    },
    {
     "ename": "KeyError",
     "evalue": "'rank'",
     "output_type": "error",
     "traceback": [
      "\u001b[1;31m---------------------------------------------------------------------------\u001b[0m",
      "\u001b[1;31mKeyError\u001b[0m                                  Traceback (most recent call last)",
      "File \u001b[1;32m~\\anaconda3\\Lib\\site-packages\\pandas\\core\\indexes\\base.py:3805\u001b[0m, in \u001b[0;36mIndex.get_loc\u001b[1;34m(self, key)\u001b[0m\n\u001b[0;32m   3804\u001b[0m \u001b[38;5;28;01mtry\u001b[39;00m:\n\u001b[1;32m-> 3805\u001b[0m     \u001b[38;5;28;01mreturn\u001b[39;00m \u001b[38;5;28mself\u001b[39m\u001b[38;5;241m.\u001b[39m_engine\u001b[38;5;241m.\u001b[39mget_loc(casted_key)\n\u001b[0;32m   3806\u001b[0m \u001b[38;5;28;01mexcept\u001b[39;00m \u001b[38;5;167;01mKeyError\u001b[39;00m \u001b[38;5;28;01mas\u001b[39;00m err:\n",
      "File \u001b[1;32mindex.pyx:167\u001b[0m, in \u001b[0;36mpandas._libs.index.IndexEngine.get_loc\u001b[1;34m()\u001b[0m\n",
      "File \u001b[1;32mindex.pyx:196\u001b[0m, in \u001b[0;36mpandas._libs.index.IndexEngine.get_loc\u001b[1;34m()\u001b[0m\n",
      "File \u001b[1;32mpandas\\\\_libs\\\\hashtable_class_helper.pxi:7081\u001b[0m, in \u001b[0;36mpandas._libs.hashtable.PyObjectHashTable.get_item\u001b[1;34m()\u001b[0m\n",
      "File \u001b[1;32mpandas\\\\_libs\\\\hashtable_class_helper.pxi:7089\u001b[0m, in \u001b[0;36mpandas._libs.hashtable.PyObjectHashTable.get_item\u001b[1;34m()\u001b[0m\n",
      "\u001b[1;31mKeyError\u001b[0m: 'rank'",
      "\nThe above exception was the direct cause of the following exception:\n",
      "\u001b[1;31mKeyError\u001b[0m                                  Traceback (most recent call last)",
      "Cell \u001b[1;32mIn[12], line 49\u001b[0m\n\u001b[0;32m     45\u001b[0m combined_df \u001b[38;5;241m=\u001b[39m combined_df\u001b[38;5;241m.\u001b[39msort_values(by\u001b[38;5;241m=\u001b[39m\u001b[38;5;124m\"\u001b[39m\u001b[38;5;124mscore\u001b[39m\u001b[38;5;124m\"\u001b[39m)\u001b[38;5;241m.\u001b[39mreset_index(drop\u001b[38;5;241m=\u001b[39m\u001b[38;5;28;01mTrue\u001b[39;00m)\n\u001b[0;32m     47\u001b[0m \u001b[38;5;28mprint\u001b[39m(combined_df\u001b[38;5;241m.\u001b[39mhead(\u001b[38;5;241m10\u001b[39m))\n\u001b[1;32m---> 49\u001b[0m combined_df\u001b[38;5;241m.\u001b[39mplot\u001b[38;5;241m.\u001b[39mpie(labels\u001b[38;5;241m=\u001b[39mcombined_df[\u001b[38;5;124m\"\u001b[39m\u001b[38;5;124mneighborhood\u001b[39m\u001b[38;5;124m\"\u001b[39m], y\u001b[38;5;241m=\u001b[39m\u001b[38;5;124m\"\u001b[39m\u001b[38;5;124mrank\u001b[39m\u001b[38;5;124m\"\u001b[39m)\n\u001b[0;32m     50\u001b[0m plt\u001b[38;5;241m.\u001b[39mshow()\n",
      "File \u001b[1;32m~\\anaconda3\\Lib\\site-packages\\pandas\\plotting\\_core.py:1658\u001b[0m, in \u001b[0;36mPlotAccessor.pie\u001b[1;34m(self, **kwargs)\u001b[0m\n\u001b[0;32m   1652\u001b[0m \u001b[38;5;28;01mif\u001b[39;00m (\n\u001b[0;32m   1653\u001b[0m     \u001b[38;5;28misinstance\u001b[39m(\u001b[38;5;28mself\u001b[39m\u001b[38;5;241m.\u001b[39m_parent, ABCDataFrame)\n\u001b[0;32m   1654\u001b[0m     \u001b[38;5;129;01mand\u001b[39;00m kwargs\u001b[38;5;241m.\u001b[39mget(\u001b[38;5;124m\"\u001b[39m\u001b[38;5;124my\u001b[39m\u001b[38;5;124m\"\u001b[39m, \u001b[38;5;28;01mNone\u001b[39;00m) \u001b[38;5;129;01mis\u001b[39;00m \u001b[38;5;28;01mNone\u001b[39;00m\n\u001b[0;32m   1655\u001b[0m     \u001b[38;5;129;01mand\u001b[39;00m \u001b[38;5;129;01mnot\u001b[39;00m kwargs\u001b[38;5;241m.\u001b[39mget(\u001b[38;5;124m\"\u001b[39m\u001b[38;5;124msubplots\u001b[39m\u001b[38;5;124m\"\u001b[39m, \u001b[38;5;28;01mFalse\u001b[39;00m)\n\u001b[0;32m   1656\u001b[0m ):\n\u001b[0;32m   1657\u001b[0m     \u001b[38;5;28;01mraise\u001b[39;00m \u001b[38;5;167;01mValueError\u001b[39;00m(\u001b[38;5;124m\"\u001b[39m\u001b[38;5;124mpie requires either y column or \u001b[39m\u001b[38;5;124m'\u001b[39m\u001b[38;5;124msubplots=True\u001b[39m\u001b[38;5;124m'\u001b[39m\u001b[38;5;124m\"\u001b[39m)\n\u001b[1;32m-> 1658\u001b[0m \u001b[38;5;28;01mreturn\u001b[39;00m \u001b[38;5;28mself\u001b[39m(kind\u001b[38;5;241m=\u001b[39m\u001b[38;5;124m\"\u001b[39m\u001b[38;5;124mpie\u001b[39m\u001b[38;5;124m\"\u001b[39m, \u001b[38;5;241m*\u001b[39m\u001b[38;5;241m*\u001b[39mkwargs)\n",
      "File \u001b[1;32m~\\anaconda3\\Lib\\site-packages\\pandas\\plotting\\_core.py:988\u001b[0m, in \u001b[0;36mPlotAccessor.__call__\u001b[1;34m(self, *args, **kwargs)\u001b[0m\n\u001b[0;32m    986\u001b[0m                 y \u001b[38;5;241m=\u001b[39m data\u001b[38;5;241m.\u001b[39mcolumns[y]\n\u001b[0;32m    987\u001b[0m             \u001b[38;5;66;03m# converted to series actually. copy to not modify\u001b[39;00m\n\u001b[1;32m--> 988\u001b[0m             data \u001b[38;5;241m=\u001b[39m data[y]\u001b[38;5;241m.\u001b[39mcopy()\n\u001b[0;32m    989\u001b[0m             data\u001b[38;5;241m.\u001b[39mindex\u001b[38;5;241m.\u001b[39mname \u001b[38;5;241m=\u001b[39m y\n\u001b[0;32m    990\u001b[0m \u001b[38;5;28;01melif\u001b[39;00m \u001b[38;5;28misinstance\u001b[39m(data, ABCDataFrame):\n",
      "File \u001b[1;32m~\\anaconda3\\Lib\\site-packages\\pandas\\core\\frame.py:4102\u001b[0m, in \u001b[0;36mDataFrame.__getitem__\u001b[1;34m(self, key)\u001b[0m\n\u001b[0;32m   4100\u001b[0m \u001b[38;5;28;01mif\u001b[39;00m \u001b[38;5;28mself\u001b[39m\u001b[38;5;241m.\u001b[39mcolumns\u001b[38;5;241m.\u001b[39mnlevels \u001b[38;5;241m>\u001b[39m \u001b[38;5;241m1\u001b[39m:\n\u001b[0;32m   4101\u001b[0m     \u001b[38;5;28;01mreturn\u001b[39;00m \u001b[38;5;28mself\u001b[39m\u001b[38;5;241m.\u001b[39m_getitem_multilevel(key)\n\u001b[1;32m-> 4102\u001b[0m indexer \u001b[38;5;241m=\u001b[39m \u001b[38;5;28mself\u001b[39m\u001b[38;5;241m.\u001b[39mcolumns\u001b[38;5;241m.\u001b[39mget_loc(key)\n\u001b[0;32m   4103\u001b[0m \u001b[38;5;28;01mif\u001b[39;00m is_integer(indexer):\n\u001b[0;32m   4104\u001b[0m     indexer \u001b[38;5;241m=\u001b[39m [indexer]\n",
      "File \u001b[1;32m~\\anaconda3\\Lib\\site-packages\\pandas\\core\\indexes\\base.py:3812\u001b[0m, in \u001b[0;36mIndex.get_loc\u001b[1;34m(self, key)\u001b[0m\n\u001b[0;32m   3807\u001b[0m     \u001b[38;5;28;01mif\u001b[39;00m \u001b[38;5;28misinstance\u001b[39m(casted_key, \u001b[38;5;28mslice\u001b[39m) \u001b[38;5;129;01mor\u001b[39;00m (\n\u001b[0;32m   3808\u001b[0m         \u001b[38;5;28misinstance\u001b[39m(casted_key, abc\u001b[38;5;241m.\u001b[39mIterable)\n\u001b[0;32m   3809\u001b[0m         \u001b[38;5;129;01mand\u001b[39;00m \u001b[38;5;28many\u001b[39m(\u001b[38;5;28misinstance\u001b[39m(x, \u001b[38;5;28mslice\u001b[39m) \u001b[38;5;28;01mfor\u001b[39;00m x \u001b[38;5;129;01min\u001b[39;00m casted_key)\n\u001b[0;32m   3810\u001b[0m     ):\n\u001b[0;32m   3811\u001b[0m         \u001b[38;5;28;01mraise\u001b[39;00m InvalidIndexError(key)\n\u001b[1;32m-> 3812\u001b[0m     \u001b[38;5;28;01mraise\u001b[39;00m \u001b[38;5;167;01mKeyError\u001b[39;00m(key) \u001b[38;5;28;01mfrom\u001b[39;00m \u001b[38;5;21;01merr\u001b[39;00m\n\u001b[0;32m   3813\u001b[0m \u001b[38;5;28;01mexcept\u001b[39;00m \u001b[38;5;167;01mTypeError\u001b[39;00m:\n\u001b[0;32m   3814\u001b[0m     \u001b[38;5;66;03m# If we have a listlike key, _check_indexing_error will raise\u001b[39;00m\n\u001b[0;32m   3815\u001b[0m     \u001b[38;5;66;03m#  InvalidIndexError. Otherwise we fall through and re-raise\u001b[39;00m\n\u001b[0;32m   3816\u001b[0m     \u001b[38;5;66;03m#  the TypeError.\u001b[39;00m\n\u001b[0;32m   3817\u001b[0m     \u001b[38;5;28mself\u001b[39m\u001b[38;5;241m.\u001b[39m_check_indexing_error(key)\n",
      "\u001b[1;31mKeyError\u001b[0m: 'rank'"
     ]
    }
   ],
   "source": [
    "import pandas as pd\n",
    "import matplotlib.pyplot as plt\n",
    "\n",
    "parks = pd.read_csv(\"parks.csv\")\n",
    "trees = pd.read_csv(\"trees.csv\", low_memory=False)\n",
    "playgrounds = pd.read_csv(\"playground.csv\")\n",
    "\n",
    "#function that computes rank for each dataframe\n",
    "def compute_rank(df, label):\n",
    "    counts = df[\"neighborhood\"].value_counts()\n",
    "    ranked_df = counts.reset_index()\n",
    "    ranked_df.columns = [\"neighborhood\", \"count\"]\n",
    "    ranked_df[\"rank\"] = ranked_df[\"count\"].rank(method='min', ascending=False).astype(int)\n",
    "    return dict(zip(ranked_df[\"neighborhood\"], ranked_df[\"rank\"]))\n",
    "\n",
    "\n",
    "park_ranks = compute_rank(parks, \"parks\")\n",
    "tree_ranks = compute_rank(trees, \"trees\")\n",
    "playground_ranks = compute_rank(playgrounds, \"playgrounds\")\n",
    "\n",
    "#combines all neighborhoods to include unique ones\n",
    "all_neighborhoods = set(park_ranks) | set(tree_ranks) | set(playground_ranks)\n",
    "\n",
    "\n",
    "max_park = max(park_ranks.values())\n",
    "max_tree = max(tree_ranks.values())\n",
    "max_playground = max(playground_ranks.values())\n",
    "default_park = max_park + 1\n",
    "default_tree = max_tree + 1\n",
    "default_playground = max_playground + 1\n",
    "\n",
    "#add ranks (ranks = score)\n",
    "combined_scores = {}\n",
    "for n in all_neighborhoods:\n",
    "    park_rank = park_ranks.get(n, default_park)\n",
    "    tree_rank = tree_ranks.get(n, default_tree)\n",
    "    playground_rank = playground_ranks.get(n, default_playground)\n",
    "\n",
    "    total_score = park_rank + tree_rank + playground_rank\n",
    "\n",
    "    combined_scores[n] = total_score\n",
    "\n",
    "#converts dictionary to dataframe\n",
    "combined_df = pd.DataFrame(list(combined_scores.items()), columns=[\"neighborhood\", \"score\"])\n",
    "combined_df = combined_df.sort_values(by=\"score\").reset_index(drop=True)\n",
    "\n",
    "print(combined_df.head(10))\n",
    "\n",
    "combined_df.plot.pie(labels=combined_df[\"neighborhood\"], y=\"score\")\n",
    "plt.show()"
   ]
  },
  {
   "cell_type": "markdown",
   "id": "65cf23c5-ebc4-41b0-869a-61ed5ad412cb",
   "metadata": {},
   "source": [
    "# The Best Neighborhood\n",
    "\n",
    "According to our metric, the best neighborhood in Pittsburgh is **Squirrel Hill South**.\n",
    "\n",
    "This neighborhood consistently ranked near the top across all three categories—parks, trees, and playgrounds—earning it the lowest total score. Its access to natural and recreational spaces makes it stand out as an ideal place for both families and individuals who value green space, walkability, and outdoor activities.\n",
    "\n",
    "While other neighborhoods may excel in one or two categories, **Squirrel Hill South** shows strong performance across all three, making it a well-rounded and livable area."
   ]
  },
  {
   "cell_type": "markdown",
   "id": "7b46d3b3-23e7-4c0a-ac3b-7ab03ba23582",
   "metadata": {},
   "source": [
    "# Conclusion: Kieran\n",
    "\r\n",
    "While the data-driven analysis identifi Squirrel Hill South as the best t neighborhood overall, my personal favorite iSouth Side. I enjoy walking around there more. This shows how data analysis doesn't always align with personal rankings."
   ]
  }
 ],
 "metadata": {
  "kernelspec": {
   "display_name": "Python [conda env:base] *",
   "language": "python",
   "name": "conda-base-py"
  },
  "language_info": {
   "codemirror_mode": {
    "name": "ipython",
    "version": 3
   },
   "file_extension": ".py",
   "mimetype": "text/x-python",
   "name": "python",
   "nbconvert_exporter": "python",
   "pygments_lexer": "ipython3",
   "version": "3.12.7"
  }
 },
 "nbformat": 4,
 "nbformat_minor": 5
}
