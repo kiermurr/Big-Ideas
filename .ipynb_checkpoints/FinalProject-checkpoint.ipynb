{
 "cells": [
  {
   "cell_type": "code",
   "execution_count": 2,
   "id": "5f5341fe-df83-4a41-83a2-d481f7906ae9",
   "metadata": {},
   "outputs": [
    {
     "name": "stdout",
     "output_type": "stream",
     "text": [
      "          neighborhood  score\n",
      "0  Squirrel Hill South      8\n",
      "1         East Liberty     16\n",
      "2     Mount Washington     26\n",
      "3     South Side Flats     26\n",
      "4            Beechview     29\n",
      "5            Hazelwood     36\n",
      "6           Bloomfield     39\n",
      "7     Brighton Heights     40\n",
      "8              Carrick     41\n",
      "9        Highland Park     41\n"
     ]
    }
   ],
   "source": [
    "import pandas as pd\n",
    "\n",
    "parks = pd.read_csv(\"parks.csv\")\n",
    "trees = pd.read_csv(\"trees.csv\", low_memory=False)\n",
    "playgrounds = pd.read_csv(\"playground.csv\")\n",
    "\n",
    "def compute_rank(df, label):\n",
    "    counts = df[\"neighborhood\"].value_counts()\n",
    "    ranked_df = counts.reset_index()\n",
    "    ranked_df.columns = [\"neighborhood\", \"count\"]\n",
    "    ranked_df[\"rank\"] = ranked_df[\"count\"].rank(method='min', ascending=False).astype(int)\n",
    "    return dict(zip(ranked_df[\"neighborhood\"], ranked_df[\"rank\"]))\n",
    "\n",
    "park_ranks = compute_rank(parks, \"parks\")\n",
    "tree_ranks = compute_rank(trees, \"trees\")\n",
    "playground_ranks = compute_rank(playgrounds, \"playgrounds\")\n",
    "\n",
    "all_neighborhoods = set(park_ranks) | set(tree_ranks) | set(playground_ranks)\n",
    "\n",
    "max_park = max(park_ranks.values())\n",
    "max_tree = max(tree_ranks.values())\n",
    "max_playground = max(playground_ranks.values())\n",
    "default_park = max_park + 1\n",
    "default_tree = max_tree + 1\n",
    "default_playground = max_playground + 1\n",
    "\n",
    "#add ranks (ranks = score)\n",
    "combined_scores = {\n",
    "    n: park_ranks.get(n, default_park) +\n",
    "       tree_ranks.get(n, default_tree) +\n",
    "       playground_ranks.get(n, default_playground)\n",
    "    for n in all_neighborhoods\n",
    "}\n",
    "\n",
    "combined_df = pd.DataFrame(list(combined_scores.items()), columns=[\"neighborhood\", \"score\"])\n",
    "combined_df = combined_df.sort_values(by=\"score\").reset_index(drop=True)\n",
    "\n",
    "print(combined_df.head(10))"
   ]
  }
 ],
 "metadata": {
  "kernelspec": {
   "display_name": "Python 3 (ipykernel)",
   "language": "python",
   "name": "python3"
  },
  "language_info": {
   "codemirror_mode": {
    "name": "ipython",
    "version": 3
   },
   "file_extension": ".py",
   "mimetype": "text/x-python",
   "name": "python",
   "nbconvert_exporter": "python",
   "pygments_lexer": "ipython3",
   "version": "3.11.5"
  }
 },
 "nbformat": 4,
 "nbformat_minor": 5
}
