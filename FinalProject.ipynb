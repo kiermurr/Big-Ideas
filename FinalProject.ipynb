{
 "cells": [
  {
   "cell_type": "markdown",
   "id": "d28f0c54-b48f-4328-83ac-6f8803adbb31",
   "metadata": {},
   "source": [
    "# Introduction\r\n",
    "\r\n",
    "This project explores what makes a Pittsburgh neighborhood the \"best\" by combining three metrics: the number of parks, trees, and playgrounds. Each neighborhood was ranked in each category, and the ranks were added to create a final score—lower scores indicate better overall access to green and recreational spac (good for children)e We were thinking about doing datasets based on fire before but couldn't pull it together.sty.\r\n"
   ]
  },
  {
   "cell_type": "markdown",
   "id": "a14e9e60-cb1f-474d-81c0-eab83258b449",
   "metadata": {},
   "source": [
    "# The Metric\r\n",
    "\r\n",
    "We ranked Pittsburgh neighborhoods based on three features: number of parks, trees, and playgrounds. For each dataset, neighborhoods were ranked from most to least, and their ranks were added together to form a final score.\r\n",
    "\r\n",
    "Lower scores mean better overall access to green and recreational spaces.\r\n",
    "\r\n",
    "Datasets used:\r\n",
    "- `par ks.csv`\r\n",
    "- `trees.csv`\r\n",
    "- `playground.csv`\r\n"
   ]
  },
  {
   "cell_type": "code",
   "execution_count": 3,
   "id": "5f5341fe-df83-4a41-83a2-d481f7906ae9",
   "metadata": {},
   "outputs": [
    {
     "name": "stdout",
     "output_type": "stream",
     "text": [
      "          neighborhood  score\n",
      "0  Squirrel Hill South      8\n",
      "1         East Liberty     16\n",
      "2     Mount Washington     26\n",
      "3     South Side Flats     26\n",
      "4            Beechview     29\n",
      "5            Hazelwood     36\n",
      "6           Bloomfield     39\n",
      "7     Brighton Heights     40\n",
      "8              Carrick     41\n",
      "9        Highland Park     41\n"
     ]
    }
   ],
   "source": [
    "import pandas as pd\n",
    "\n",
    "parks = pd.read_csv(\"parks.csv\")\n",
    "trees = pd.read_csv(\"trees.csv\", low_memory=False)\n",
    "playgrounds = pd.read_csv(\"playground.csv\")\n",
    "\n",
    "#function that computes rank for each dataframe\n",
    "def compute_rank(df, label):\n",
    "    counts = df[\"neighborhood\"].value_counts()\n",
    "    ranked_df = counts.reset_index()\n",
    "    ranked_df.columns = [\"neighborhood\", \"count\"]\n",
    "    ranked_df[\"rank\"] = ranked_df[\"count\"].rank(method='min', ascending=False).astype(int)\n",
    "    return dict(zip(ranked_df[\"neighborhood\"], ranked_df[\"rank\"]))\n",
    "\n",
    "\n",
    "park_ranks = compute_rank(parks, \"parks\")\n",
    "tree_ranks = compute_rank(trees, \"trees\")\n",
    "playground_ranks = compute_rank(playgrounds, \"playgrounds\")\n",
    "\n",
    "#combines all neighborhoods to include unique ones\n",
    "all_neighborhoods = set(park_ranks) | set(tree_ranks) | set(playground_ranks)\n",
    "\n",
    "\n",
    "max_park = max(park_ranks.values())\n",
    "max_tree = max(tree_ranks.values())\n",
    "max_playground = max(playground_ranks.values())\n",
    "default_park = max_park + 1\n",
    "default_tree = max_tree + 1\n",
    "default_playground = max_playground + 1\n",
    "\n",
    "#add ranks (ranks = score)\n",
    "combined_scores = {}\n",
    "for n in all_neighborhoods:\n",
    "    park_rank = park_ranks.get(n, default_park)\n",
    "    tree_rank = tree_ranks.get(n, default_tree)\n",
    "    playground_rank = playground_ranks.get(n, default_playground)\n",
    "\n",
    "    total_score = park_rank + tree_rank + playground_rank\n",
    "\n",
    "    combined_scores[n] = total_score\n",
    "\n",
    "#converts dictionary to dataframe\n",
    "combined_df = pd.DataFrame(list(combined_scores.items()), columns=[\"neighborhood\", \"score\"])\n",
    "combined_df = combined_df.sort_values(by=\"score\").reset_index(drop=True)\n",
    "\n",
    "print(combined_df.head(10))"
   ]
  },
  {
   "cell_type": "markdown",
   "id": "65cf23c5-ebc4-41b0-869a-61ed5ad412cb",
   "metadata": {},
   "source": [
    "# The Best Neighborhood\n",
    "\n",
    "According to our metric, the best neighborhood in Pittsburgh is **Squirrel Hill South**.\n",
    "\n",
    "This neighborhood consistently ranked near the top across all three categories—parks, trees, and playgrounds—earning it the lowest total score. Its access to natural and recreational spaces makes it stand out as an ideal place for both families and individuals who value green space, walkability, and outdoor activities.\n",
    "\n",
    "While other neighborhoods may excel in one or two categories, **Squirrel Hill South** shows strong performance across all three, making it a well-rounded and livable area."
   ]
  },
  {
   "cell_type": "markdown",
   "id": "7b46d3b3-23e7-4c0a-ac3b-7ab03ba23582",
   "metadata": {},
   "source": [
    "# Conclusion: Kieran\n",
    "\r\n",
    "While the data-driven analysis identifi Squirrel Hill South as the best t neighborhood overall, my personal favorite iSouth Side. I enjoy walking around there more. This shows how data analysis doesn't always align with personal rankings."
   ]
  }
 ],
 "metadata": {
  "kernelspec": {
   "display_name": "Python 3 (ipykernel)",
   "language": "python",
   "name": "python3"
  },
  "language_info": {
   "codemirror_mode": {
    "name": "ipython",
    "version": 3
   },
   "file_extension": ".py",
   "mimetype": "text/x-python",
   "name": "python",
   "nbconvert_exporter": "python",
   "pygments_lexer": "ipython3",
   "version": "3.11.5"
  }
 },
 "nbformat": 4,
 "nbformat_minor": 5
}
