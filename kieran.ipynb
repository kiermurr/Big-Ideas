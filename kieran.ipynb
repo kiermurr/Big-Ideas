{
 "cells": [
  {
   "cell_type": "code",
   "execution_count": 21,
   "id": "b55eedf5-8484-4bc1-b233-b1dd994e677c",
   "metadata": {},
   "outputs": [
    {
     "name": "stdout",
     "output_type": "stream",
     "text": [
      "                neighborhood  count  rank\n",
      "0               East Liberty     12     1\n",
      "1  Central Business District     10     2\n",
      "2                  Beechview      8     3\n",
      "3          South Side Slopes      7     4\n",
      "4               Point Breeze      7     4\n",
      "5           Mount Washington      6     6\n",
      "6        Squirrel Hill South      6     6\n",
      "7                   Sheraden      6     6\n",
      "8                  Hazelwood      6     6\n",
      "9           South Side Flats      6     6\n",
      "\n",
      "                 neighborhood  count  rank\n",
      "0        Squirrel Hill South   5073     1\n",
      "1              Highland Park   2941     2\n",
      "2        Squirrel Hill North   2083     3\n",
      "3           South Side Flats   1693     4\n",
      "4                  Shadyside   1558     5\n",
      "5                 Bloomfield   1436     6\n",
      "6               East Liberty   1366     7\n",
      "7               Point Breeze   1316     8\n",
      "8                Perry North   1007     9\n",
      "9  Central Business District   1002    10\n"
     ]
    }
   ],
   "source": [
    "import pandas as pd\n",
    "\n",
    "#parks\n",
    "parks = pd.read_csv(\"parks.csv\")\n",
    "\n",
    "#counts number of neighborhoods\n",
    "park_count = parks[\"neighborhood\"].value_counts()\n",
    "\n",
    "#converts into data frame\n",
    "park_df = park_count.reset_index()\n",
    "park_df.columns = [\"neighborhood\", \"count\"]\n",
    "\n",
    "#ranks based on highest count\n",
    "park_df[\"rank\"] = park_df[\"count\"].rank(method='min', ascending=False).astype(int)\n",
    "\n",
    "print(park_df.head(10))\n",
    "\n",
    "\n",
    "#trees\n",
    "trees = pd.read_csv(\"trees.csv\", low_memory=False)\n",
    "tree_count = trees[\"neighborhood\"].value_counts()\n",
    "\n",
    "#converts to data frame\n",
    "tree_df = tree_count.reset_index()\n",
    "tree_df.columns = [\"neighborhood\", \"count\"]\n",
    "\n",
    "#ranks based on highest count\n",
    "tree_df[\"rank\"] = tree_df[\"count\"].rank(method='min', ascending=False).astype(int)\n",
    "\n",
    "print(\"\\n\",tree_df.head(10))\n",
    "\n",
    "\n"
   ]
  },
  {
   "cell_type": "code",
   "execution_count": null,
   "id": "cfda1961-d904-4313-a683-8046a4825366",
   "metadata": {},
   "outputs": [],
   "source": []
  }
 ],
 "metadata": {
  "kernelspec": {
   "display_name": "Python [conda env:base] *",
   "language": "python",
   "name": "conda-base-py"
  },
  "language_info": {
   "codemirror_mode": {
    "name": "ipython",
    "version": 3
   },
   "file_extension": ".py",
   "mimetype": "text/x-python",
   "name": "python",
   "nbconvert_exporter": "python",
   "pygments_lexer": "ipython3",
   "version": "3.12.7"
  }
 },
 "nbformat": 4,
 "nbformat_minor": 5
}
